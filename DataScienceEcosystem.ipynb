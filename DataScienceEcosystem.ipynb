{
 "cells": [
  {
   "cell_type": "markdown",
   "id": "23a1949b-d1e7-447e-a40c-a7efc5b63627",
   "metadata": {},
   "source": [
    "Data Science Tools and Ecosystem"
   ]
  },
  {
   "cell_type": "markdown",
   "id": "63a8d8c0-cbcd-48c8-9906-3ef12e080aa7",
   "metadata": {},
   "source": [
    "In this notebook, Data Science Tools and Ecosystem are summarized."
   ]
  },
  {
   "cell_type": "markdown",
   "id": "c17f36aa-360d-461b-b84e-9f3db3d650c9",
   "metadata": {},
   "source": [
    "Some of the popular languages that Data Scientists use are:"
   ]
  },
  {
   "cell_type": "markdown",
   "id": "f6ad488c-e230-42a5-987a-f761344fd588",
   "metadata": {},
   "source": [
    "1. Python: Python is widely used in the data science community due to its simplicity, extensive libraries (such as NumPy, Pandas, and Scikit-learn), and strong ecosystem for data analysis and machine learning.\n",
    "\n",
    "2. R: R is another popular language for data science, particularly in statistical analysis and visualization. It has a wide range of packages (such as ggplot2 and dplyr) that make data manipulation and visualization tasks easier.\n",
    "\n",
    "3. SQL: SQL (Structured Query Language) is essential for working with relational databases. It allows you to query, manipulate, and analyze data stored in databases efficiently.\n",
    "\n",
    "4. Julia: Julia is a high-level, high-performance programming language specifically designed for numerical and scientific computing. It combines the ease of use of Python with the speed of languages like C and Fortran.\n",
    "\n",
    "5. Scala: Scala is a general-purpose programming language that is gaining popularity in the data science community, especially for big data processing using Apache Spark.\n",
    "\n"
   ]
  },
  {
   "cell_type": "markdown",
   "id": "d2adb0a5-c58c-4bc9-ad36-eea5f3df0010",
   "metadata": {},
   "source": [
    "| Data Science Languages |\n",
    "|------------------------|\n",
    "| Python                 |\n",
    "| R                      |\n",
    "| SQL                    |\n",
    "| Julia                  |\n",
    "| Scala                  |"
   ]
  },
  {
   "cell_type": "markdown",
   "id": "0aa2786f-b036-48c7-907d-1025314de507",
   "metadata": {},
   "source": [
    "Some of the popular libraries that Data Scientists use are:"
   ]
  },
  {
   "cell_type": "markdown",
   "id": "c5742778-5c67-428d-a815-11efb287862a",
   "metadata": {},
   "source": [
    "1. Pandas: A powerful library for data manipulation and analysis.\n",
    "2. NumPy: A fundamental package for scientific computing with support for large, multi-dimensional arrays and matrices.\n",
    "3. Matplotlib: A plotting library for creating static, animated, and interactive visualizations in Python."
   ]
  },
  {
   "cell_type": "markdown",
   "id": "b35d6176-4798-4092-aee7-cef5698cab2a",
   "metadata": {},
   "source": [
    "| Data Science Languages |\n",
    "|--------------------|\n",
    "| Pandas             |\n",
    "| NumPy              |\n",
    "| Matplotlib         |\n"
   ]
  },
  {
   "cell_type": "markdown",
   "id": "9d074dfb-3c2d-4868-b5c1-e57d229fa1aa",
   "metadata": {},
   "source": [
    "Here are three commonly used open source development environment tools in data science:"
   ]
  },
  {
   "cell_type": "markdown",
   "id": "683af79d-6b9c-4a73-9229-b3528bc3a469",
   "metadata": {},
   "source": [
    "1. Jupyter Notebook: An interactive computing environment that allows you to create and share documents containing live code, equations, visualizations, and narrative text.\n",
    "\n",
    "2. RStudio: An integrated development environment (IDE) for R programming language, providing a user-friendly interface for data analysis, visualization, and statistical modeling.\n",
    "\n",
    "3. Spyder: A powerful scientific environment written in Python, specifically designed for data science, machine learning, and scientific computing, with features like code editor, variable explorer, and debugging capabilities."
   ]
  },
  {
   "cell_type": "markdown",
   "id": "05e7de9a-7da2-4de7-abf4-92f2a14447e4",
   "metadata": {},
   "source": [
    "| Data Science Tools |\n",
    "|--------------------|\n",
    "| Jupyter Notebook   |\n",
    "| RStudio            |\n",
    "| Spyder             |\n"
   ]
  },
  {
   "cell_type": "markdown",
   "id": "df53230a-61c8-4488-bed7-20ad9dfb2462",
   "metadata": {
    "tags": []
   },
   "source": [
    "### Below are a few examples of evaluating arithmetic expressions in Python."
   ]
  },
  {
   "cell_type": "code",
   "execution_count": 1,
   "id": "dbc6c6d9-024b-4f5c-a4da-f7fb1e7bb05a",
   "metadata": {
    "tags": []
   },
   "outputs": [
    {
     "data": {
      "text/plain": [
       "17"
      ]
     },
     "execution_count": 1,
     "metadata": {},
     "output_type": "execute_result"
    }
   ],
   "source": [
    "# This is a simple arithmetic expression to multiply then add integers.\n",
    "result = (3*4) + 5\n",
    "result\n"
   ]
  },
  {
   "cell_type": "code",
   "execution_count": 3,
   "id": "7681f915-34fb-46ea-b595-24ccd7820123",
   "metadata": {
    "tags": []
   },
   "outputs": [
    {
     "data": {
      "text/plain": [
       "3.3333333333333335"
      ]
     },
     "execution_count": 3,
     "metadata": {},
     "output_type": "execute_result"
    }
   ],
   "source": [
    "# This will convert 200 minutes to hours by dividing by 60.\n",
    "hours = 200 / 60\n",
    "hours"
   ]
  },
  {
   "cell_type": "markdown",
   "id": "da70f593-f81a-4bf5-99b0-5232e7fb3a5f",
   "metadata": {},
   "source": [
    "## Author\n",
    "Disha"
   ]
  },
  {
   "cell_type": "code",
   "execution_count": null,
   "id": "3bbf9dd4-69f9-42b6-afda-04deb0b99ab3",
   "metadata": {},
   "outputs": [],
   "source": []
  }
 ],
 "metadata": {
  "kernelspec": {
   "display_name": "Python",
   "language": "python",
   "name": "conda-env-python-py"
  },
  "language_info": {
   "codemirror_mode": {
    "name": "ipython",
    "version": 3
   },
   "file_extension": ".py",
   "mimetype": "text/x-python",
   "name": "python",
   "nbconvert_exporter": "python",
   "pygments_lexer": "ipython3",
   "version": "3.7.12"
  }
 },
 "nbformat": 4,
 "nbformat_minor": 5
}
